{
 "cells": [
  {
   "cell_type": "code",
   "execution_count": 1,
   "id": "mobile-compression",
   "metadata": {},
   "outputs": [],
   "source": [
    "import pandas as pd\n",
    "import matplotlib.pyplot as plt\n",
    "import geopandas as gpd\n",
    "from shapely.geometry import Polygon, Point\n",
    "import pyproj\n",
    "import warnings\n",
    "warnings.filterwarnings('ignore')\n",
    "%matplotlib inline\n",
    "\n",
    "\n",
    "bsas_map = gpd.read_file('../gopa_data/barrios-ciudad')\n",
    "coordinates = pd.read_csv('../raw_data/coordinates_data.csv')"
   ]
  },
  {
   "cell_type": "code",
   "execution_count": 2,
   "id": "attached-pricing",
   "metadata": {},
   "outputs": [
    {
     "data": {
      "text/html": [
       "<div>\n",
       "<style scoped>\n",
       "    .dataframe tbody tr th:only-of-type {\n",
       "        vertical-align: middle;\n",
       "    }\n",
       "\n",
       "    .dataframe tbody tr th {\n",
       "        vertical-align: top;\n",
       "    }\n",
       "\n",
       "    .dataframe thead th {\n",
       "        text-align: right;\n",
       "    }\n",
       "</style>\n",
       "<table border=\"1\" class=\"dataframe\">\n",
       "  <thead>\n",
       "    <tr style=\"text-align: right;\">\n",
       "      <th></th>\n",
       "      <th>BARRIO</th>\n",
       "      <th>COMUNA</th>\n",
       "      <th>GEOJSON</th>\n",
       "      <th>geometry</th>\n",
       "    </tr>\n",
       "  </thead>\n",
       "  <tbody>\n",
       "    <tr>\n",
       "      <th>0</th>\n",
       "      <td>CHACARITA</td>\n",
       "      <td>15.0</td>\n",
       "      <td>{\"type\":\"MultiPolygon\",\"coordinates\":[[[[-58.4...</td>\n",
       "      <td>POLYGON ((-58.45282 -34.59599, -58.45366 -34.5...</td>\n",
       "    </tr>\n",
       "    <tr>\n",
       "      <th>1</th>\n",
       "      <td>PATERNAL</td>\n",
       "      <td>15.0</td>\n",
       "      <td>{\"type\":\"MultiPolygon\",\"coordinates\":[[[[-58.4...</td>\n",
       "      <td>POLYGON ((-58.46558 -34.59656, -58.46562 -34.5...</td>\n",
       "    </tr>\n",
       "    <tr>\n",
       "      <th>2</th>\n",
       "      <td>VILLA CRESPO</td>\n",
       "      <td>15.0</td>\n",
       "      <td>{\"type\":\"MultiPolygon\",\"coordinates\":[[[[-58.4...</td>\n",
       "      <td>POLYGON ((-58.42375 -34.59783, -58.42495 -34.5...</td>\n",
       "    </tr>\n",
       "    <tr>\n",
       "      <th>3</th>\n",
       "      <td>VILLA DEL PARQUE</td>\n",
       "      <td>11.0</td>\n",
       "      <td>{\"type\":\"MultiPolygon\",\"coordinates\":[[[[-58.4...</td>\n",
       "      <td>POLYGON ((-58.49461 -34.61487, -58.49479 -34.6...</td>\n",
       "    </tr>\n",
       "    <tr>\n",
       "      <th>4</th>\n",
       "      <td>ALMAGRO</td>\n",
       "      <td>5.0</td>\n",
       "      <td>{\"type\":\"MultiPolygon\",\"coordinates\":[[[[-58.4...</td>\n",
       "      <td>POLYGON ((-58.41287 -34.61412, -58.41282 -34.6...</td>\n",
       "    </tr>\n",
       "  </tbody>\n",
       "</table>\n",
       "</div>"
      ],
      "text/plain": [
       "             BARRIO  COMUNA  \\\n",
       "0         CHACARITA    15.0   \n",
       "1          PATERNAL    15.0   \n",
       "2      VILLA CRESPO    15.0   \n",
       "3  VILLA DEL PARQUE    11.0   \n",
       "4           ALMAGRO     5.0   \n",
       "\n",
       "                                             GEOJSON  \\\n",
       "0  {\"type\":\"MultiPolygon\",\"coordinates\":[[[[-58.4...   \n",
       "1  {\"type\":\"MultiPolygon\",\"coordinates\":[[[[-58.4...   \n",
       "2  {\"type\":\"MultiPolygon\",\"coordinates\":[[[[-58.4...   \n",
       "3  {\"type\":\"MultiPolygon\",\"coordinates\":[[[[-58.4...   \n",
       "4  {\"type\":\"MultiPolygon\",\"coordinates\":[[[[-58.4...   \n",
       "\n",
       "                                            geometry  \n",
       "0  POLYGON ((-58.45282 -34.59599, -58.45366 -34.5...  \n",
       "1  POLYGON ((-58.46558 -34.59656, -58.46562 -34.5...  \n",
       "2  POLYGON ((-58.42375 -34.59783, -58.42495 -34.5...  \n",
       "3  POLYGON ((-58.49461 -34.61487, -58.49479 -34.6...  \n",
       "4  POLYGON ((-58.41287 -34.61412, -58.41282 -34.6...  "
      ]
     },
     "execution_count": 2,
     "metadata": {},
     "output_type": "execute_result"
    }
   ],
   "source": [
    "bsas_map.head(5)"
   ]
  },
  {
   "cell_type": "code",
   "execution_count": 17,
   "id": "greater-wells",
   "metadata": {},
   "outputs": [
    {
     "data": {
      "text/html": [
       "<div>\n",
       "<style scoped>\n",
       "    .dataframe tbody tr th:only-of-type {\n",
       "        vertical-align: middle;\n",
       "    }\n",
       "\n",
       "    .dataframe tbody tr th {\n",
       "        vertical-align: top;\n",
       "    }\n",
       "\n",
       "    .dataframe thead th {\n",
       "        text-align: right;\n",
       "    }\n",
       "</style>\n",
       "<table border=\"1\" class=\"dataframe\">\n",
       "  <thead>\n",
       "    <tr style=\"text-align: right;\">\n",
       "      <th></th>\n",
       "      <th>BARRIO</th>\n",
       "      <th>COMUNA</th>\n",
       "      <th>GEOJSON</th>\n",
       "      <th>geometry</th>\n",
       "    </tr>\n",
       "  </thead>\n",
       "  <tbody>\n",
       "    <tr>\n",
       "      <th>50</th>\n",
       "      <td>PUERTO MADERO</td>\n",
       "      <td>1.0</td>\n",
       "      <td>{\"type\":\"MultiPolygon\",\"coordinates\":[[[[-58.3...</td>\n",
       "      <td>POLYGON ((-58.35732 -34.59509, -58.35729 -34.5...</td>\n",
       "    </tr>\n",
       "  </tbody>\n",
       "</table>\n",
       "</div>"
      ],
      "text/plain": [
       "           BARRIO  COMUNA                                            GEOJSON  \\\n",
       "50  PUERTO MADERO     1.0  {\"type\":\"MultiPolygon\",\"coordinates\":[[[[-58.3...   \n",
       "\n",
       "                                             geometry  \n",
       "50  POLYGON ((-58.35732 -34.59509, -58.35729 -34.5...  "
      ]
     },
     "execution_count": 17,
     "metadata": {},
     "output_type": "execute_result"
    }
   ],
   "source": [
    "barrio = 'PUERTO MADERO'\n",
    "df_barrio = bsas_map[bsas_map['BARRIO'] == barrio]\n",
    "df_barrio"
   ]
  },
  {
   "cell_type": "code",
   "execution_count": 18,
   "id": "focal-jerusalem",
   "metadata": {},
   "outputs": [
    {
     "data": {
      "text/html": [
       "<div>\n",
       "<style scoped>\n",
       "    .dataframe tbody tr th:only-of-type {\n",
       "        vertical-align: middle;\n",
       "    }\n",
       "\n",
       "    .dataframe tbody tr th {\n",
       "        vertical-align: top;\n",
       "    }\n",
       "\n",
       "    .dataframe thead th {\n",
       "        text-align: right;\n",
       "    }\n",
       "</style>\n",
       "<table border=\"1\" class=\"dataframe\">\n",
       "  <thead>\n",
       "    <tr style=\"text-align: right;\">\n",
       "      <th></th>\n",
       "      <th>search_longitude</th>\n",
       "      <th>search_latitude</th>\n",
       "      <th>arrive</th>\n",
       "      <th>leave</th>\n",
       "      <th>search_method</th>\n",
       "      <th>timestamp</th>\n",
       "      <th>uid</th>\n",
       "      <th>x</th>\n",
       "      <th>y</th>\n",
       "      <th>new_x</th>\n",
       "      <th>new_y</th>\n",
       "      <th>arrive_date</th>\n",
       "      <th>dayOfWeek</th>\n",
       "      <th>reservas_barrio</th>\n",
       "      <th>geometry</th>\n",
       "    </tr>\n",
       "  </thead>\n",
       "  <tbody>\n",
       "    <tr>\n",
       "      <th>0</th>\n",
       "      <td>-58.440447</td>\n",
       "      <td>-34.620694</td>\n",
       "      <td>2021-02-28 15:56:00+00:00</td>\n",
       "      <td>2021-02-28 17:32:00+00:00</td>\n",
       "      <td>google</td>\n",
       "      <td>2021-01-31T19:35:42.438-03:00</td>\n",
       "      <td>NaN</td>\n",
       "      <td>-58.440447</td>\n",
       "      <td>-34.620694</td>\n",
       "      <td>0.097696</td>\n",
       "      <td>0.084863</td>\n",
       "      <td>2021-02-28</td>\n",
       "      <td>6</td>\n",
       "      <td>False</td>\n",
       "      <td>POINT (-58.44045 -34.62069)</td>\n",
       "    </tr>\n",
       "    <tr>\n",
       "      <th>1</th>\n",
       "      <td>-58.418288</td>\n",
       "      <td>-34.581668</td>\n",
       "      <td>2021-02-13 15:12:45.668000+00:00</td>\n",
       "      <td>2021-02-13 16:12:45.668000+00:00</td>\n",
       "      <td>searchInThisArea</td>\n",
       "      <td>2021-02-13T12:13:03.714-03:00</td>\n",
       "      <td>e8itgepSU1YX6Q48HtrDpz76OXr1</td>\n",
       "      <td>-58.418288</td>\n",
       "      <td>-34.581668</td>\n",
       "      <td>0.119855</td>\n",
       "      <td>0.123889</td>\n",
       "      <td>2021-02-13</td>\n",
       "      <td>5</td>\n",
       "      <td>False</td>\n",
       "      <td>POINT (-58.41829 -34.58167)</td>\n",
       "    </tr>\n",
       "    <tr>\n",
       "      <th>2</th>\n",
       "      <td>-58.208933</td>\n",
       "      <td>-34.831096</td>\n",
       "      <td>2021-01-25 17:45:27.320000+00:00</td>\n",
       "      <td>2021-01-25 18:45:27.320000+00:00</td>\n",
       "      <td>searchInThisArea</td>\n",
       "      <td>2021-01-25T14:45:44.753-03:00</td>\n",
       "      <td>NaN</td>\n",
       "      <td>-58.208933</td>\n",
       "      <td>-34.831096</td>\n",
       "      <td>0.329210</td>\n",
       "      <td>-0.125539</td>\n",
       "      <td>2021-01-25</td>\n",
       "      <td>0</td>\n",
       "      <td>False</td>\n",
       "      <td>POINT (-58.20893 -34.83110)</td>\n",
       "    </tr>\n",
       "    <tr>\n",
       "      <th>3</th>\n",
       "      <td>-58.454943</td>\n",
       "      <td>-34.564354</td>\n",
       "      <td>2021-02-25 11:20:09.755000+00:00</td>\n",
       "      <td>2021-02-25 12:20:09.755000+00:00</td>\n",
       "      <td>searchInThisArea</td>\n",
       "      <td>2021-02-25T08:22:32.254-03:00</td>\n",
       "      <td>NaN</td>\n",
       "      <td>-58.454943</td>\n",
       "      <td>-34.564354</td>\n",
       "      <td>0.083200</td>\n",
       "      <td>0.141203</td>\n",
       "      <td>2021-02-25</td>\n",
       "      <td>3</td>\n",
       "      <td>False</td>\n",
       "      <td>POINT (-58.45494 -34.56435)</td>\n",
       "    </tr>\n",
       "    <tr>\n",
       "      <th>4</th>\n",
       "      <td>-58.451924</td>\n",
       "      <td>-34.559296</td>\n",
       "      <td>2020-09-17 10:45:00+00:00</td>\n",
       "      <td>2020-09-17 11:00:00+00:00</td>\n",
       "      <td>update_time_home</td>\n",
       "      <td>2020-09-17T08:13:03.302GMT-03:00</td>\n",
       "      <td>unauthenticated</td>\n",
       "      <td>-58.451924</td>\n",
       "      <td>-34.559296</td>\n",
       "      <td>0.086219</td>\n",
       "      <td>0.146261</td>\n",
       "      <td>2020-09-17</td>\n",
       "      <td>3</td>\n",
       "      <td>False</td>\n",
       "      <td>POINT (-58.45192 -34.55930)</td>\n",
       "    </tr>\n",
       "  </tbody>\n",
       "</table>\n",
       "</div>"
      ],
      "text/plain": [
       "   search_longitude  search_latitude                            arrive  \\\n",
       "0        -58.440447       -34.620694         2021-02-28 15:56:00+00:00   \n",
       "1        -58.418288       -34.581668  2021-02-13 15:12:45.668000+00:00   \n",
       "2        -58.208933       -34.831096  2021-01-25 17:45:27.320000+00:00   \n",
       "3        -58.454943       -34.564354  2021-02-25 11:20:09.755000+00:00   \n",
       "4        -58.451924       -34.559296         2020-09-17 10:45:00+00:00   \n",
       "\n",
       "                              leave     search_method  \\\n",
       "0         2021-02-28 17:32:00+00:00            google   \n",
       "1  2021-02-13 16:12:45.668000+00:00  searchInThisArea   \n",
       "2  2021-01-25 18:45:27.320000+00:00  searchInThisArea   \n",
       "3  2021-02-25 12:20:09.755000+00:00  searchInThisArea   \n",
       "4         2020-09-17 11:00:00+00:00  update_time_home   \n",
       "\n",
       "                          timestamp                           uid          x  \\\n",
       "0     2021-01-31T19:35:42.438-03:00                           NaN -58.440447   \n",
       "1     2021-02-13T12:13:03.714-03:00  e8itgepSU1YX6Q48HtrDpz76OXr1 -58.418288   \n",
       "2     2021-01-25T14:45:44.753-03:00                           NaN -58.208933   \n",
       "3     2021-02-25T08:22:32.254-03:00                           NaN -58.454943   \n",
       "4  2020-09-17T08:13:03.302GMT-03:00               unauthenticated -58.451924   \n",
       "\n",
       "           y     new_x     new_y arrive_date  dayOfWeek  reservas_barrio  \\\n",
       "0 -34.620694  0.097696  0.084863  2021-02-28          6            False   \n",
       "1 -34.581668  0.119855  0.123889  2021-02-13          5            False   \n",
       "2 -34.831096  0.329210 -0.125539  2021-01-25          0            False   \n",
       "3 -34.564354  0.083200  0.141203  2021-02-25          3            False   \n",
       "4 -34.559296  0.086219  0.146261  2020-09-17          3            False   \n",
       "\n",
       "                      geometry  \n",
       "0  POINT (-58.44045 -34.62069)  \n",
       "1  POINT (-58.41829 -34.58167)  \n",
       "2  POINT (-58.20893 -34.83110)  \n",
       "3  POINT (-58.45494 -34.56435)  \n",
       "4  POINT (-58.45192 -34.55930)  "
      ]
     },
     "execution_count": 18,
     "metadata": {},
     "output_type": "execute_result"
    }
   ],
   "source": [
    "coordinates.drop(columns='geometry', inplace=True)\n",
    "gpd_data = gpd.GeoDataFrame(coordinates,\n",
    "                         geometry = gpd.points_from_xy(coordinates.search_longitude, coordinates.search_latitude))\n",
    "gpd_data.head()"
   ]
  },
  {
   "cell_type": "code",
   "execution_count": 19,
   "id": "genuine-threat",
   "metadata": {},
   "outputs": [],
   "source": [
    "reservas_bsas = gpd_data[['geometry']]\n",
    "reservas_barrio = reservas_bsas.within(df_barrio)\n",
    "cond_reservas_barrio = gpd_data.apply(lambda x: df_barrio.contains(x.geometry), axis=1)\n",
    "gpd_data['reservas_barrio'] = cond_reservas_barrio\n",
    "gpd_data = gpd_data[gpd_data.reservas_barrio == True]\n",
    "\n"
   ]
  },
  {
   "cell_type": "code",
   "execution_count": 20,
   "id": "wrapped-grass",
   "metadata": {},
   "outputs": [
    {
     "data": {
      "text/plain": [
       "<Geographic 2D CRS: EPSG:4326>\n",
       "Name: WGS 84\n",
       "Axis Info [ellipsoidal]:\n",
       "- Lat[north]: Geodetic latitude (degree)\n",
       "- Lon[east]: Geodetic longitude (degree)\n",
       "Area of Use:\n",
       "- name: World.\n",
       "- bounds: (-180.0, -90.0, 180.0, 90.0)\n",
       "Datum: World Geodetic System 1984\n",
       "- Ellipsoid: WGS 84\n",
       "- Prime Meridian: Greenwich"
      ]
     },
     "execution_count": 20,
     "metadata": {},
     "output_type": "execute_result"
    }
   ],
   "source": [
    "reservas_bsas = reservas_bsas.set_crs(\"EPSG:4326\")\n",
    "reservas_bsas.crs\n"
   ]
  },
  {
   "cell_type": "code",
   "execution_count": 21,
   "id": "small-terrain",
   "metadata": {},
   "outputs": [
    {
     "data": {
      "text/plain": [
       "<Geographic 2D CRS: EPSG:4326>\n",
       "Name: WGS 84\n",
       "Axis Info [ellipsoidal]:\n",
       "- Lat[north]: Geodetic latitude (degree)\n",
       "- Lon[east]: Geodetic longitude (degree)\n",
       "Area of Use:\n",
       "- name: World.\n",
       "- bounds: (-180.0, -90.0, 180.0, 90.0)\n",
       "Datum: World Geodetic System 1984\n",
       "- Ellipsoid: WGS 84\n",
       "- Prime Meridian: Greenwich"
      ]
     },
     "execution_count": 21,
     "metadata": {},
     "output_type": "execute_result"
    }
   ],
   "source": [
    "df_barrio.crs"
   ]
  },
  {
   "cell_type": "code",
   "execution_count": null,
   "id": "aware-correspondence",
   "metadata": {},
   "outputs": [],
   "source": []
  },
  {
   "cell_type": "code",
   "execution_count": 22,
   "id": "collect-paragraph",
   "metadata": {},
   "outputs": [
    {
     "data": {
      "text/plain": [
       "(-34.7, -34.525)"
      ]
     },
     "execution_count": 22,
     "metadata": {},
     "output_type": "execute_result"
    },
    {
     "data": {
      "image/png": "[encoded data removed]",
      "text/plain": [
       "<Figure size 1080x1152 with 1 Axes>"
      ]
     },
     "metadata": {
      "needs_background": "light"
     },
     "output_type": "display_data"
    }
   ],
   "source": [
    "fig,ax = plt.subplots(figsize = (15,16))\n",
    "df_barrio.plot(ax=ax, color='grey')\n",
    "gpd_data.plot(ax=ax, markersize=5, color='red')\n",
    "ax.set_xlim([-58.550, -58.325])\n",
    "ax.set_ylim([-34.700, -34.525])"
   ]
  },
  {
   "cell_type": "code",
   "execution_count": null,
   "id": "exposed-jordan",
   "metadata": {},
   "outputs": [],
   "source": []
  }
 ],
 "metadata": {
  "kernelspec": {
   "display_name": "Python 3",
   "language": "python",
   "name": "python3"
  },
  "language_info": {
   "codemirror_mode": {
    "name": "ipython",
    "version": 3
   },
   "file_extension": ".py",
   "mimetype": "text/x-python",
   "name": "python",
   "nbconvert_exporter": "python",
   "pygments_lexer": "ipython3",
   "version": "3.8.6"
  }
 },
 "nbformat": 4,
 "nbformat_minor": 5
}
