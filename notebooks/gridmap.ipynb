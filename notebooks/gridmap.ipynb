{
 "cells": [
  {
   "cell_type": "code",
   "execution_count": 1,
   "id": "finished-period",
   "metadata": {},
   "outputs": [],
   "source": [
    "import pandas as pd\n",
    "import matplotlib.pyplot as plt\n",
    "import geopandas as gpd\n",
    "from shapely.geometry import Polygon, Point\n",
    "import pyproj\n",
    "import warnings\n",
    "warnings.filterwarnings('ignore')\n",
    "\n",
    "\n",
    "%matplotlib inline\n",
    "\n",
    "\n",
    "bsas_map = gpd.read_file('../gopa_data/barrios-ciudad')\n"
   ]
  },
  {
   "cell_type": "code",
   "execution_count": 2,
   "id": "recorded-wallet",
   "metadata": {},
   "outputs": [
    {
     "data": {
      "text/html": [
       "<div>\n",
       "<style scoped>\n",
       "    .dataframe tbody tr th:only-of-type {\n",
       "        vertical-align: middle;\n",
       "    }\n",
       "\n",
       "    .dataframe tbody tr th {\n",
       "        vertical-align: top;\n",
       "    }\n",
       "\n",
       "    .dataframe thead th {\n",
       "        text-align: right;\n",
       "    }\n",
       "</style>\n",
       "<table border=\"1\" class=\"dataframe\">\n",
       "  <thead>\n",
       "    <tr style=\"text-align: right;\">\n",
       "      <th></th>\n",
       "      <th>dot</th>\n",
       "      <th>lat</th>\n",
       "      <th>lon</th>\n",
       "      <th>geometry</th>\n",
       "    </tr>\n",
       "  </thead>\n",
       "  <tbody>\n",
       "    <tr>\n",
       "      <th>0</th>\n",
       "      <td>A</td>\n",
       "      <td>-34.534599</td>\n",
       "      <td>-58.531942</td>\n",
       "      <td>POINT (-58.53194 -34.53460)</td>\n",
       "    </tr>\n",
       "    <tr>\n",
       "      <th>1</th>\n",
       "      <td>B</td>\n",
       "      <td>-34.534599</td>\n",
       "      <td>-58.334982</td>\n",
       "      <td>POINT (-58.33498 -34.53460)</td>\n",
       "    </tr>\n",
       "    <tr>\n",
       "      <th>2</th>\n",
       "      <td>C</td>\n",
       "      <td>-34.705557</td>\n",
       "      <td>-58.334982</td>\n",
       "      <td>POINT (-58.33498 -34.70556)</td>\n",
       "    </tr>\n",
       "    <tr>\n",
       "      <th>3</th>\n",
       "      <td>D</td>\n",
       "      <td>-34.705557</td>\n",
       "      <td>-58.531942</td>\n",
       "      <td>POINT (-58.53194 -34.70556)</td>\n",
       "    </tr>\n",
       "  </tbody>\n",
       "</table>\n",
       "</div>"
      ],
      "text/plain": [
       "  dot        lat        lon                     geometry\n",
       "0   A -34.534599 -58.531942  POINT (-58.53194 -34.53460)\n",
       "1   B -34.534599 -58.334982  POINT (-58.33498 -34.53460)\n",
       "2   C -34.705557 -58.334982  POINT (-58.33498 -34.70556)\n",
       "3   D -34.705557 -58.531942  POINT (-58.53194 -34.70556)"
      ]
     },
     "execution_count": 2,
     "metadata": {},
     "output_type": "execute_result"
    }
   ],
   "source": [
    "df_corners = pd.read_csv('../raw_data/fourcorners.csv', ',')\n",
    "epsg = 'epsg:3857'\n",
    "geometry = [Point(xy) for xy in zip(df_corners['lon'], df_corners['lat'])]\n",
    "geo_df_corners = gpd.GeoDataFrame(df_corners, crs = epsg, geometry = geometry)\n",
    "geo_df_corners"
   ]
  },
  {
   "cell_type": "code",
   "execution_count": 41,
   "id": "based-builder",
   "metadata": {},
   "outputs": [
    {
     "data": {
      "text/plain": [
       "(12, 1)"
      ]
     },
     "execution_count": 41,
     "metadata": {},
     "output_type": "execute_result"
    }
   ],
   "source": [
    "# rows = 10\n",
    "# columns = 5\n",
    "# x=-58.425\n",
    "# y= -34.55\n",
    "\n",
    "def row_column(x, y, columns=20, rows=20):\n",
    "    nw_lat = geo_df_corners.lat[0]\n",
    "    nw_lon = geo_df_corners.lon[0]\n",
    "    ne_lat = geo_df_corners.lat[1]\n",
    "    ne_lon = geo_df_corners.lon[1]\n",
    "    se_lat = geo_df_corners.lat[2]\n",
    "    se_lon = geo_df_corners.lon[2]    \n",
    "    sw_lat = geo_df_corners.lat[3]\n",
    "    sw_lon = geo_df_corners.lon[3]\n",
    "\n",
    "    lat_dist_total = abs(nw_lat - sw_lat)\n",
    "    lon_dist_total = abs(se_lon - sw_lon)\n",
    "\n",
    "    lat_dist_ind = lat_dist_total/rows\n",
    "    lon_dist_ind = lon_dist_total/columns\n",
    "\n",
    "    ranges_columns = []\n",
    "    ranges_rows = []\n",
    "\n",
    "\n",
    "    for i in range(columns+1):\n",
    "        ranges_columns.append(sw_lon+(lon_dist_ind*i))\n",
    "    for j in range(rows+1):\n",
    "        ranges_rows.append(sw_lat+(lat_dist_ind*j))\n",
    "\n",
    "    for i in ranges_columns:\n",
    "        if abs(x) > abs(i):\n",
    "            column = ranges_columns.index(i)\n",
    "            break\n",
    "\n",
    "    for i in ranges_rows:\n",
    "        if abs(y) > abs(i):\n",
    "            row = ranges_rows.index(i)\n",
    "            break\n",
    "\n",
    "    return column, row\n",
    "\n",
    "\n",
    "\n",
    "row_column(x=-58.415, y= -34.700, columns=20, rows=20)  "
   ]
  },
  {
   "cell_type": "code",
   "execution_count": 12,
   "id": "marine-straight",
   "metadata": {},
   "outputs": [
    {
     "data": {
      "text/plain": [
       "[<matplotlib.lines.Line2D at 0x1216ad910>]"
      ]
     },
     "execution_count": 12,
     "metadata": {},
     "output_type": "execute_result"
    },
    {
     "data": {
      "image/png": "[encoded data removed]",
      "text/plain": [
       "<Figure size 720x720 with 1 Axes>"
      ]
     },
     "metadata": {
      "needs_background": "light"
     },
     "output_type": "display_data"
    }
   ],
   "source": [
    "fig,ax = plt.subplots(figsize = (10,10))\n",
    "bsas_map.plot(ax=ax)\n",
    "geo_df_corners.plot(ax=ax)\n",
    "x_values = [geo_df_corners.lon[0], geo_df_corners.lon[1], geo_df_corners.lon[2], geo_df_corners.lon[3], geo_df_corners.lon[3], geo_df_corners.lon[0]]\n",
    "y_values = [geo_df_corners.lat[0], geo_df_corners.lat[1], geo_df_corners.lat[2], geo_df_corners.lat[3], geo_df_corners.lat[3], geo_df_corners.lat[0]]\n",
    "plt.plot(x_values,y_values)"
   ]
  },
  {
   "cell_type": "code",
   "execution_count": 26,
   "id": "caroline-overall",
   "metadata": {},
   "outputs": [],
   "source": [
    "import numpy as np\n",
    "\n",
    "def grid_coordinates(geo_df_corners, columns, rows):\n",
    "    nw_lat = geo_df_corners.lat[0]\n",
    "    nw_lon = geo_df_corners.lon[0]\n",
    "    ne_lat = geo_df_corners.lat[1]\n",
    "    ne_lon = geo_df_corners.lon[1]\n",
    "    se_lat = geo_df_corners.lat[2]\n",
    "    se_lon = geo_df_corners.lon[2]    \n",
    "    sw_lat = geo_df_corners.lat[3]\n",
    "    sw_lon = geo_df_corners.lon[3]\n",
    "\n",
    "    lat_dist = abs(nw_lat - sw_lat)\n",
    "    lon_dist = abs(se_lon - sw_lon)\n",
    "\n",
    "    list_columns = np.linspace(nw_lon,ne_lon,columns)\n",
    "    list_rows = np.linspace(nw_lat,sw_lat,rows)\n",
    "\n",
    "    data_coordinates = {'longitude':[], 'latitude':[]}\n",
    "\n",
    "    for row in list_rows:\n",
    "        for column in list_columns:\n",
    "            data_coordinates['longitude'].append(column)\n",
    "            data_coordinates['latitude'].append(row)\n",
    "    \n",
    "    return data_coordinates"
   ]
  },
  {
   "cell_type": "code",
   "execution_count": 29,
   "id": "technical-monroe",
   "metadata": {},
   "outputs": [],
   "source": [
    "data_coordinates = grid_coordinates(geo_df_corners, columns = 20, rows = 20)"
   ]
  },
  {
   "cell_type": "code",
   "execution_count": 42,
   "id": "industrial-belarus",
   "metadata": {
    "scrolled": true
   },
   "outputs": [
    {
     "data": {
      "text/plain": [
       "<matplotlib.collections.PathCollection at 0x1224f8e80>"
      ]
     },
     "execution_count": 42,
     "metadata": {},
     "output_type": "execute_result"
    },
    {
     "data": {
      "image/png": "[encoded data removed]",
      "text/plain": [
       "<Figure size 720x720 with 1 Axes>"
      ]
     },
     "metadata": {
      "needs_background": "light"
     },
     "output_type": "display_data"
    }
   ],
   "source": [
    "fig,ax = plt.subplots(figsize = (10,10))\n",
    "bsas_map.plot(ax=ax)\n",
    "geo_df_corners.plot(ax=ax)\n",
    "x_values = data_coordinates['longitude']\n",
    "y_values = data_coordinates['latitude']\n",
    "plt.scatter(x_values,y_values, marker= '.')\n",
    "plt.scatter(-58.415, -34.627)\n",
    "\n",
    "\n"
   ]
  },
  {
   "cell_type": "code",
   "execution_count": null,
   "id": "medical-victoria",
   "metadata": {
    "scrolled": true
   },
   "outputs": [],
   "source": [
    " \n",
    "\n"
   ]
  },
  {
   "cell_type": "code",
   "execution_count": null,
   "id": "harmful-surgeon",
   "metadata": {},
   "outputs": [],
   "source": [
    "df = pd.read_csv('fourcorners.csv', ',')\n",
    "epsg = 'epsg:3857'\n",
    "df.head()"
   ]
  },
  {
   "cell_type": "code",
   "execution_count": null,
   "id": "crude-concord",
   "metadata": {},
   "outputs": [],
   "source": [
    "geometry = [Point(xy) for xy in zip(df['lon'], df['lat'])]\n",
    "geometry"
   ]
  },
  {
   "cell_type": "code",
   "execution_count": null,
   "id": "silent-furniture",
   "metadata": {},
   "outputs": [],
   "source": [
    "geo_df = gpd.GeoDataFrame(df,\n",
    "                         crs = epsg, \n",
    "                         geometry = geometry)\n",
    "geo_df"
   ]
  },
  {
   "cell_type": "code",
   "execution_count": null,
   "id": "subject-audit",
   "metadata": {},
   "outputs": [],
   "source": [
    "fig,ax = plt.subplots(figsize = (10,10))\n",
    "bsas_map.plot(ax=ax, color='grey')\n",
    "geo_df.plot(ax=ax, markersize=20, alpha=0.4, color='blue')"
   ]
  },
  {
   "cell_type": "code",
   "execution_count": null,
   "id": "configured-expansion",
   "metadata": {},
   "outputs": [],
   "source": [
    "# Set up projections\n",
    "p_ll = pyproj.Proj('epsg:4326') # epsg mundo\n",
    "p_mt = pyproj.Proj('EPSG:3857') # epsg argentinta\n"
   ]
  },
  {
   "cell_type": "code",
   "execution_count": null,
   "id": "rural-termination",
   "metadata": {},
   "outputs": [],
   "source": [
    "import shapely\n",
    "sw = shapely.geometry.Point((-58.538143, -34.705557))\n",
    "ne = shapely.geometry.Point((-58.350345, -34.532787))\n",
    "\n",
    "stepsize = 500 # 500 m grid step size"
   ]
  },
  {
   "cell_type": "code",
   "execution_count": null,
   "id": "typical-arctic",
   "metadata": {},
   "outputs": [],
   "source": [
    "# Project corners to target projection\n",
    "transformed_sw = pyproj.transform(p_ll, p_mt, sw.x, sw.y) # Transform NW point to 22177\n",
    "transformed_ne = pyproj.transform(p_ll, p_mt, ne.x, ne.y) # .. same for SE"
   ]
  },
  {
   "cell_type": "code",
   "execution_count": null,
   "id": "measured-devil",
   "metadata": {},
   "outputs": [],
   "source": [
    "# Iterate over 2D area\n",
    "gridpoints = []\n",
    "x = transformed_sw[0]\n",
    "while x < transformed_ne[0]:\n",
    "    y = transformed_sw[1]\n",
    "    while y < transformed_ne[1]:\n",
    "        p = shapely.geometry.Point(pyproj.transform(p_mt, p_ll, x, y))\n",
    "        gridpoints.append(p)\n",
    "        y += stepsize\n",
    "    x += stepsize"
   ]
  },
  {
   "cell_type": "code",
   "execution_count": null,
   "id": "ordered-session",
   "metadata": {},
   "outputs": [],
   "source": [
    "import csv\n",
    "\n",
    "with open('testoutbsas.csv', 'w') as of:\n",
    "    of.write('lon,lat\\n')\n",
    "    for p in gridpoints:\n",
    "        of.write('{:f},{:f}\\n'.format(p.x, p.y))"
   ]
  },
  {
   "cell_type": "code",
   "execution_count": null,
   "id": "educational-sharing",
   "metadata": {},
   "outputs": [],
   "source": [
    "df_coords = pd.read_csv('testoutbsas.csv')\n",
    "epsg = 'epsg:3857'\n",
    "df_coords"
   ]
  },
  {
   "cell_type": "code",
   "execution_count": null,
   "id": "ordinary-century",
   "metadata": {},
   "outputs": [],
   "source": [
    "gdf = gpd.GeoDataFrame(\n",
    "    df_coords, geometry=gpd.points_from_xy(df_coords.lon, df_coords.lat))"
   ]
  },
  {
   "cell_type": "code",
   "execution_count": null,
   "id": "promotional-lambda",
   "metadata": {},
   "outputs": [],
   "source": [
    "gdf"
   ]
  },
  {
   "cell_type": "code",
   "execution_count": null,
   "id": "acute-argentina",
   "metadata": {},
   "outputs": [],
   "source": [
    "fig,ax = plt.subplots(figsize = (20,20))\n",
    "bsas_map.plot(ax=ax, color='grey')\n",
    "gdf.plot(ax=ax, markersize=5, alpha=0.4, color='blue')"
   ]
  },
  {
   "cell_type": "code",
   "execution_count": null,
   "id": "otherwise-china",
   "metadata": {},
   "outputs": [],
   "source": [
    "import numpy as np\n"
   ]
  },
  {
   "cell_type": "code",
   "execution_count": null,
   "id": "indoor-adobe",
   "metadata": {},
   "outputs": [],
   "source": [
    "data = pd.read_json('backupPretty.json')\n",
    "data"
   ]
  },
  {
   "cell_type": "code",
   "execution_count": null,
   "id": "seasonal-moldova",
   "metadata": {},
   "outputs": [],
   "source": [
    "data = data.T\n",
    "data.head()"
   ]
  },
  {
   "cell_type": "code",
   "execution_count": null,
   "id": "headed-county",
   "metadata": {},
   "outputs": [],
   "source": [
    "data = data.drop(columns = ['user_longitude', 'user_latitude', '__collections__'])\n",
    "data"
   ]
  },
  {
   "cell_type": "code",
   "execution_count": null,
   "id": "endless-inspector",
   "metadata": {},
   "outputs": [],
   "source": [
    "data = data[['search_longitude', 'search_latitude', 'arrive', 'leave','search_method', 'timestamp', 'uid']]"
   ]
  },
  {
   "cell_type": "code",
   "execution_count": null,
   "id": "aerial-martin",
   "metadata": {},
   "outputs": [],
   "source": [
    "data.reset_index(level=0, inplace=True) "
   ]
  },
  {
   "cell_type": "code",
   "execution_count": null,
   "id": "religious-regulation",
   "metadata": {},
   "outputs": [],
   "source": [
    "data.drop(columns=\"index\", inplace=True)"
   ]
  },
  {
   "cell_type": "code",
   "execution_count": null,
   "id": "fewer-inspector",
   "metadata": {},
   "outputs": [],
   "source": [
    "data['search_method'] = data['search_method'].convert_dtypes()"
   ]
  },
  {
   "cell_type": "code",
   "execution_count": null,
   "id": "medium-mountain",
   "metadata": {},
   "outputs": [],
   "source": [
    "data['search_method'].dtypes"
   ]
  },
  {
   "cell_type": "code",
   "execution_count": null,
   "id": "institutional-payroll",
   "metadata": {},
   "outputs": [],
   "source": [
    "data[\"search_method\"]"
   ]
  },
  {
   "cell_type": "code",
   "execution_count": null,
   "id": "declared-promise",
   "metadata": {},
   "outputs": [],
   "source": [
    "data = data[data.search_method != 'startup']\n",
    "data.head()"
   ]
  },
  {
   "cell_type": "code",
   "execution_count": null,
   "id": "blessed-porter",
   "metadata": {},
   "outputs": [],
   "source": [
    "gpd_data = gpd.GeoDataFrame(data,\n",
    "                         crs = epsg, \n",
    "                         geometry = gpd.points_from_xy(data.search_longitude, data.search_latitude))\n",
    "gpd_data"
   ]
  },
  {
   "cell_type": "code",
   "execution_count": null,
   "id": "seven-israel",
   "metadata": {},
   "outputs": [],
   "source": [
    "fig,ax = plt.subplots(figsize = (20,20))\n",
    "bsas_map.plot(ax=ax, color='lightgrey')\n",
    "gdf.plot(ax=ax, markersize=5, color='black')\n",
    "gpd_data.plot(ax=ax, markersize=5, color='red')\n",
    "ax.set_xlim([-58.550, -58.325])\n",
    "ax.set_ylim([-34.700, -34.525])\n"
   ]
  },
  {
   "cell_type": "code",
   "execution_count": null,
   "id": "extreme-fitting",
   "metadata": {},
   "outputs": [],
   "source": [
    "grid_coordinates_gdf = gdf.copy()"
   ]
  },
  {
   "cell_type": "code",
   "execution_count": null,
   "id": "referenced-consultation",
   "metadata": {},
   "outputs": [],
   "source": [
    "grid_coordinates_gdf['y'] = grid_coordinates_gdf['lat']\n",
    "grid_coordinates_gdf['x'] = grid_coordinates_gdf['lon']\n",
    "grid_coordinates_gdf.drop(columns = ['lat', 'lon'], inplace=True)"
   ]
  },
  {
   "cell_type": "code",
   "execution_count": null,
   "id": "floppy-canon",
   "metadata": {},
   "outputs": [],
   "source": [
    "grid_coordinates_gdf"
   ]
  },
  {
   "cell_type": "code",
   "execution_count": null,
   "id": "similar-tribe",
   "metadata": {},
   "outputs": [],
   "source": [
    "def coord_to_numsx(x):\n",
    "    initial_x = 58.538143\n",
    "    new_x = initial_x + x\n",
    "    return new_x\n",
    "    \n",
    "\n",
    "def coord_to_numsy(y): \n",
    "    initial_y = 34.705557\n",
    "    new_y = initial_y + y\n",
    "    return new_y\n",
    "    \n"
   ]
  },
  {
   "cell_type": "code",
   "execution_count": null,
   "id": "operational-tutorial",
   "metadata": {},
   "outputs": [],
   "source": [
    "grid_coordinates_gdf[\"new_x\"] = grid_coordinates_gdf[\"x\"].map(coord_to_numsx)\n",
    "grid_coordinates_gdf[\"new_y\"] = grid_coordinates_gdf[\"y\"].map(coord_to_numsy)\n"
   ]
  },
  {
   "cell_type": "code",
   "execution_count": null,
   "id": "reasonable-supply",
   "metadata": {},
   "outputs": [],
   "source": [
    "grid_coordinates_gdf = pd.DataFrame(grid_coordinates_gdf)\n",
    "\n",
    "grid_coordinates_gdf"
   ]
  },
  {
   "cell_type": "code",
   "execution_count": null,
   "id": "homeless-idaho",
   "metadata": {},
   "outputs": [],
   "source": [
    "# fig,ax = plt.subplots(figsize = (20,20))\n",
    "# grid_coordinates_gdf.plot(ax=ax, color='black', x='new_x', y='new_y', kind='scatter')\n",
    "# # ax.set_xlim([0, 0.2])\n",
    "# # ax.set_ylim([0,0.2])"
   ]
  },
  {
   "cell_type": "code",
   "execution_count": null,
   "id": "nonprofit-fossil",
   "metadata": {},
   "outputs": [],
   "source": [
    "grid_coordinates_data = gpd_data.copy()\n",
    "grid_coordinates_data"
   ]
  },
  {
   "cell_type": "code",
   "execution_count": null,
   "id": "necessary-tucson",
   "metadata": {},
   "outputs": [],
   "source": [
    "grid_coordinates_data['x'] = grid_coordinates_data['search_longitude']\n",
    "grid_coordinates_data['y'] = grid_coordinates_data['search_latitude']\n",
    "grid_coordinates_data"
   ]
  },
  {
   "cell_type": "code",
   "execution_count": null,
   "id": "african-handbook",
   "metadata": {},
   "outputs": [],
   "source": [
    "grid_coordinates_data[\"new_x\"] = grid_coordinates_data[\"x\"].map(coord_to_numsx)\n",
    "grid_coordinates_data[\"new_y\"] = grid_coordinates_data[\"y\"].map(coord_to_numsy)\n",
    "grid_coordinates_data = pd.DataFrame(grid_coordinates_data)\n",
    "\n",
    "grid_coordinates_data"
   ]
  },
  {
   "cell_type": "code",
   "execution_count": null,
   "id": "successful-wheat",
   "metadata": {
    "scrolled": true
   },
   "outputs": [],
   "source": [
    "fig,ax = plt.subplots(figsize = (15,15))\n",
    "grid_coordinates_gdf.plot(ax=ax, color='black', x='new_x', y='new_y', kind='scatter')\n",
    "grid_coordinates_data.plot(ax=ax, color='red', x='new_x', y='new_y', kind='scatter')\n",
    "ax.set_xlim([0, 0.2])\n",
    "ax.set_ylim([0,0.2])"
   ]
  },
  {
   "cell_type": "code",
   "execution_count": null,
   "id": "missing-zambia",
   "metadata": {},
   "outputs": [],
   "source": [
    "\n",
    "def data_in_gdf(x,y):\n",
    "    \n",
    "    x_column = x/0.002345\n",
    "    y_column = y/0.004492\n",
    "    \n",
    "    return int(x_column), int(y_column)\n",
    "    "
   ]
  },
  {
   "cell_type": "code",
   "execution_count": null,
   "id": "black-central",
   "metadata": {},
   "outputs": [],
   "source": [
    "print(grid_coordinates_data.loc[[11778]])"
   ]
  },
  {
   "cell_type": "code",
   "execution_count": null,
   "id": "another-madison",
   "metadata": {},
   "outputs": [],
   "source": [
    "data_in_gdf(0.154728,0.113642)"
   ]
  },
  {
   "cell_type": "code",
   "execution_count": null,
   "id": "treated-senate",
   "metadata": {},
   "outputs": [],
   "source": [
    "grid_coordinates_data.head()"
   ]
  },
  {
   "cell_type": "code",
   "execution_count": null,
   "id": "conservative-wrapping",
   "metadata": {},
   "outputs": [],
   "source": [
    "grid_coordinates_data['arrive'] = pd.to_datetime(grid_coordinates_data['arrive'], utc=True)\n"
   ]
  },
  {
   "cell_type": "code",
   "execution_count": null,
   "id": "desirable-physics",
   "metadata": {},
   "outputs": [],
   "source": [
    "grid_coordinates_data['leave'] = pd.to_datetime(grid_coordinates_data['leave'], utc=True)\n"
   ]
  },
  {
   "cell_type": "code",
   "execution_count": null,
   "id": "educational-break",
   "metadata": {},
   "outputs": [],
   "source": [
    "grid_coordinates_data"
   ]
  },
  {
   "cell_type": "code",
   "execution_count": null,
   "id": "completed-uncle",
   "metadata": {},
   "outputs": [],
   "source": [
    "grid_coordinates_data['arrive_date'] = grid_coordinates_data['arrive'].dt.date"
   ]
  },
  {
   "cell_type": "code",
   "execution_count": null,
   "id": "combined-patient",
   "metadata": {},
   "outputs": [],
   "source": [
    "grid_coordinates_data['dayOfWeek'] = grid_coordinates_data['arrive'].dt.dayofweek"
   ]
  },
  {
   "cell_type": "code",
   "execution_count": null,
   "id": "about-discharge",
   "metadata": {},
   "outputs": [],
   "source": [
    "grid_coordinates_data.drop(columns=['index', 'uid'], inplace=True)"
   ]
  },
  {
   "cell_type": "code",
   "execution_count": null,
   "id": "continued-lobby",
   "metadata": {},
   "outputs": [],
   "source": [
    "sunday = grid_coordinates_data[grid_coordinates_data[\"dayOfWeek\"] == 'Sunday']\n",
    "monday = grid_coordinates_data[grid_coordinates_data[\"dayOfWeek\"] == 'Monday']\n",
    "friday = grid_coordinates_data[grid_coordinates_data[\"dayOfWeek\"] == 'Friday']\n"
   ]
  },
  {
   "cell_type": "code",
   "execution_count": null,
   "id": "balanced-milton",
   "metadata": {},
   "outputs": [],
   "source": [
    "fig,ax = plt.subplots(figsize = (15,15))\n",
    "grid_coordinates_gdf.plot(ax=ax, color='black', x='new_x', y='new_y', kind='scatter')\n",
    "sunday.plot(ax=ax, color='red', x='new_x', y='new_y', kind='scatter')\n",
    "monday.plot(ax=ax, color='blue', x='new_x', y='new_y', kind='scatter')\n",
    "friday.plot(ax=ax, color='yellow', x='new_x', y='new_y', kind='scatter')\n",
    "ax.set_xlim([0, 0.2])\n",
    "ax.set_ylim([0,0.2])"
   ]
  },
  {
   "cell_type": "code",
   "execution_count": null,
   "id": "proper-mortgage",
   "metadata": {},
   "outputs": [],
   "source": [
    "grid_coordinates_data"
   ]
  },
  {
   "cell_type": "code",
   "execution_count": null,
   "id": "imported-maryland",
   "metadata": {},
   "outputs": [],
   "source": [
    "grid_coordinates_data.to_csv('coordinates_data.csv', index=False)\n"
   ]
  },
  {
   "cell_type": "code",
   "execution_count": null,
   "id": "damaged-command",
   "metadata": {},
   "outputs": [],
   "source": [
    "grid_coordinates_gdf.new_x.nunique()"
   ]
  },
  {
   "cell_type": "code",
   "execution_count": null,
   "id": "short-kenya",
   "metadata": {},
   "outputs": [],
   "source": [
    "fig,ax = plt.subplots(figsize = (20,20))\n",
    "bsas_map.plot(ax=ax, color='lightgrey')\n",
    "gdf.plot(ax=ax, markersize=5, color='black')\n",
    "gpd_data.plot(ax=ax, markersize=5, color='red')\n",
    "ax.set_xlim([-58.550, -58.325])\n",
    "ax.set_ylim([-34.700, -34.525])"
   ]
  },
  {
   "cell_type": "code",
   "execution_count": null,
   "id": "alternative-birth",
   "metadata": {},
   "outputs": [],
   "source": []
  },
  {
   "cell_type": "code",
   "execution_count": null,
   "id": "honey-florist",
   "metadata": {},
   "outputs": [],
   "source": []
  },
  {
   "cell_type": "code",
   "execution_count": null,
   "id": "conceptual-absolute",
   "metadata": {},
   "outputs": [],
   "source": []
  },
  {
   "cell_type": "code",
   "execution_count": null,
   "id": "atmospheric-rental",
   "metadata": {},
   "outputs": [],
   "source": []
  },
  {
   "cell_type": "code",
   "execution_count": null,
   "id": "going-crack",
   "metadata": {},
   "outputs": [],
   "source": []
  },
  {
   "cell_type": "code",
   "execution_count": null,
   "id": "adequate-journal",
   "metadata": {},
   "outputs": [],
   "source": []
  }
 ],
 "metadata": {
  "kernelspec": {
   "display_name": "Python 3",
   "language": "python",
   "name": "python3"
  },
  "language_info": {
   "codemirror_mode": {
    "name": "ipython",
    "version": 3
   },
   "file_extension": ".py",
   "mimetype": "text/x-python",
   "name": "python",
   "nbconvert_exporter": "python",
   "pygments_lexer": "ipython3",
   "version": "3.8.6"
  }
 },
 "nbformat": 4,
 "nbformat_minor": 5
}
